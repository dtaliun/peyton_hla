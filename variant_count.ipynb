{
 "cells": [
  {
   "cell_type": "code",
   "execution_count": 7,
   "id": "76a0cf79-14ad-4bdb-81e5-3ccee4220e21",
   "metadata": {},
   "outputs": [
    {
     "ename": "ModuleNotFoundError",
     "evalue": "No module named 'pysam'",
     "output_type": "error",
     "traceback": [
      "\u001b[0;31m---------------------------------------------------------------------------\u001b[0m",
      "\u001b[0;31mModuleNotFoundError\u001b[0m                       Traceback (most recent call last)",
      "\u001b[0;32m<ipython-input-7-00a663bf8712>\u001b[0m in \u001b[0;36m<module>\u001b[0;34m\u001b[0m\n\u001b[0;32m----> 1\u001b[0;31m \u001b[0;32mimport\u001b[0m \u001b[0mpysam\u001b[0m\u001b[0;34m\u001b[0m\u001b[0;34m\u001b[0m\u001b[0m\n\u001b[0m\u001b[1;32m      2\u001b[0m \u001b[0;32mimport\u001b[0m \u001b[0margparse\u001b[0m\u001b[0;34m\u001b[0m\u001b[0;34m\u001b[0m\u001b[0m\n\u001b[1;32m      3\u001b[0m \u001b[0;32mimport\u001b[0m \u001b[0mpybedtools\u001b[0m\u001b[0;34m\u001b[0m\u001b[0;34m\u001b[0m\u001b[0m\n\u001b[1;32m      4\u001b[0m \u001b[0;32mfrom\u001b[0m \u001b[0mpybedtools\u001b[0m \u001b[0;32mimport\u001b[0m \u001b[0mBedTool\u001b[0m\u001b[0;34m\u001b[0m\u001b[0;34m\u001b[0m\u001b[0m\n",
      "\u001b[0;31mModuleNotFoundError\u001b[0m: No module named 'pysam'"
     ]
    }
   ],
   "source": [
    "import pysam\n",
    "import argparse\n",
    "import pybedtools\n",
    "from pybedtools import BedTool"
   ]
  },
  {
   "cell_type": "code",
   "execution_count": 5,
   "id": "34f31e4d-49d4-491f-8b83-4a600ee9c74d",
   "metadata": {},
   "outputs": [
    {
     "ename": "NameError",
     "evalue": "name 'argparse' is not defined",
     "output_type": "error",
     "traceback": [
      "\u001b[0;31m---------------------------------------------------------------------------\u001b[0m",
      "\u001b[0;31mNameError\u001b[0m                                 Traceback (most recent call last)",
      "\u001b[0;32m<ipython-input-5-7f572b87b0dc>\u001b[0m in \u001b[0;36m<module>\u001b[0;34m\u001b[0m\n\u001b[0;32m----> 1\u001b[0;31m \u001b[0margparser\u001b[0m \u001b[0;34m=\u001b[0m \u001b[0margparse\u001b[0m\u001b[0;34m.\u001b[0m\u001b[0mArgumentParser\u001b[0m\u001b[0;34m(\u001b[0m\u001b[0mdescription\u001b[0m \u001b[0;34m=\u001b[0m \u001b[0;34m'Script to sample random genomic intervals'\u001b[0m\u001b[0;34m)\u001b[0m\u001b[0;34m\u001b[0m\u001b[0;34m\u001b[0m\u001b[0m\n\u001b[0m\u001b[1;32m      2\u001b[0m \u001b[0margparser\u001b[0m\u001b[0;34m.\u001b[0m\u001b[0madd_argument\u001b[0m\u001b[0;34m(\u001b[0m\u001b[0;34m'-i'\u001b[0m\u001b[0;34m,\u001b[0m \u001b[0;34m'--in-vcf'\u001b[0m\u001b[0;34m,\u001b[0m \u001b[0mmetavar\u001b[0m \u001b[0;34m=\u001b[0m \u001b[0;34m'file'\u001b[0m\u001b[0;34m,\u001b[0m \u001b[0mdest\u001b[0m \u001b[0;34m=\u001b[0m \u001b[0;34m'vcf_names'\u001b[0m\u001b[0;34m,\u001b[0m \u001b[0mrequired\u001b[0m \u001b[0;34m=\u001b[0m \u001b[0;32mTrue\u001b[0m\u001b[0;34m,\u001b[0m \u001b[0mnargs\u001b[0m \u001b[0;34m=\u001b[0m \u001b[0;34m'+'\u001b[0m\u001b[0;34m,\u001b[0m \u001b[0mhelp\u001b[0m \u001b[0;34m=\u001b[0m \u001b[0;34m'Input VCF file(s)'\u001b[0m\u001b[0;34m)\u001b[0m\u001b[0;34m\u001b[0m\u001b[0;34m\u001b[0m\u001b[0m\n\u001b[1;32m      3\u001b[0m \u001b[0margparser\u001b[0m\u001b[0;34m.\u001b[0m\u001b[0madd_argument\u001b[0m\u001b[0;34m(\u001b[0m\u001b[0;34m'-l'\u001b[0m\u001b[0;34m,\u001b[0m \u001b[0;34m'--length'\u001b[0m\u001b[0;34m,\u001b[0m \u001b[0mmetavar\u001b[0m \u001b[0;34m=\u001b[0m \u001b[0;34m'interval length'\u001b[0m\u001b[0;34m,\u001b[0m \u001b[0mdest\u001b[0m \u001b[0;34m=\u001b[0m \u001b[0;34m'length'\u001b[0m\u001b[0;34m,\u001b[0m \u001b[0mrequired\u001b[0m \u001b[0;34m=\u001b[0m \u001b[0;32mTrue\u001b[0m\u001b[0;34m,\u001b[0m \u001b[0mtype\u001b[0m \u001b[0;34m=\u001b[0m \u001b[0mint\u001b[0m\u001b[0;34m,\u001b[0m \u001b[0mhelp\u001b[0m \u001b[0;34m=\u001b[0m \u001b[0;34m'Length of genomic intervals to be generated'\u001b[0m\u001b[0;34m)\u001b[0m\u001b[0;34m\u001b[0m\u001b[0;34m\u001b[0m\u001b[0m\n\u001b[1;32m      4\u001b[0m \u001b[0margparser\u001b[0m\u001b[0;34m.\u001b[0m\u001b[0madd_argument\u001b[0m\u001b[0;34m(\u001b[0m\u001b[0;34m'-n'\u001b[0m\u001b[0;34m,\u001b[0m \u001b[0;34m'--n-intervals'\u001b[0m\u001b[0;34m,\u001b[0m \u001b[0mmetavar\u001b[0m \u001b[0;34m=\u001b[0m \u001b[0;34m'number of intervals'\u001b[0m\u001b[0;34m,\u001b[0m \u001b[0mdest\u001b[0m \u001b[0;34m=\u001b[0m \u001b[0;34m'n_intervals'\u001b[0m\u001b[0;34m,\u001b[0m \u001b[0mrequired\u001b[0m \u001b[0;34m=\u001b[0m \u001b[0;32mTrue\u001b[0m\u001b[0;34m,\u001b[0m \u001b[0mtype\u001b[0m \u001b[0;34m=\u001b[0m \u001b[0mint\u001b[0m\u001b[0;34m,\u001b[0m \u001b[0mhelp\u001b[0m \u001b[0;34m=\u001b[0m \u001b[0;34m'Number of genomic intervals to be generated'\u001b[0m\u001b[0;34m)\u001b[0m\u001b[0;34m\u001b[0m\u001b[0;34m\u001b[0m\u001b[0m\n\u001b[1;32m      5\u001b[0m \u001b[0margparser\u001b[0m\u001b[0;34m.\u001b[0m\u001b[0madd_argument\u001b[0m\u001b[0;34m(\u001b[0m\u001b[0;34m'-s'\u001b[0m\u001b[0;34m,\u001b[0m \u001b[0;34m'--seed'\u001b[0m\u001b[0;34m,\u001b[0m \u001b[0mmetavar\u001b[0m \u001b[0;34m=\u001b[0m \u001b[0;34m'random seed'\u001b[0m\u001b[0;34m,\u001b[0m \u001b[0mdest\u001b[0m \u001b[0;34m=\u001b[0m \u001b[0;34m'seed'\u001b[0m\u001b[0;34m,\u001b[0m \u001b[0mrequired\u001b[0m \u001b[0;34m=\u001b[0m \u001b[0;32mTrue\u001b[0m\u001b[0;34m,\u001b[0m \u001b[0mtype\u001b[0m \u001b[0;34m=\u001b[0m \u001b[0mint\u001b[0m\u001b[0;34m,\u001b[0m \u001b[0mhelp\u001b[0m \u001b[0;34m=\u001b[0m \u001b[0;34m'Random seed parameter for randomized list'\u001b[0m\u001b[0;34m)\u001b[0m\u001b[0;34m\u001b[0m\u001b[0;34m\u001b[0m\u001b[0m\n",
      "\u001b[0;31mNameError\u001b[0m: name 'argparse' is not defined"
     ]
    }
   ],
   "source": [
    "argparser = argparse.ArgumentParser(description = 'Script to sample random genomic intervals')\n",
    "argparser.add_argument('-i', '--in-vcf', metavar = 'file', dest = 'vcf_names', required = True, nargs = '+', help = 'Input VCF file(s)')\n",
    "argparser.add_argument('-l', '--length', metavar = 'interval length', dest = 'length', required = True, type = int, help = 'Length of genomic intervals to be generated')\n",
    "argparser.add_argument('-n', '--n-intervals', metavar = 'number of intervals', dest = 'n_intervals', required = True, type = int, help = 'Number of genomic intervals to be generated')\n",
    "argparser.add_argument('-s', '--seed', metavar = 'random seed', dest = 'seed', required = True, type = int, help = 'Random seed parameter for randomized list')\n",
    "\n",
    "\n"
   ]
  },
  {
   "cell_type": "code",
   "execution_count": 3,
   "id": "065538db-c742-4a7e-8105-8b08b2103b66",
   "metadata": {},
   "outputs": [],
   "source": [
    "# How to make this function to count and return the following numbers?\n",
    "# 1. total count (already here)\n",
    "# 2. total count of variants with allele frequency >0.01\n",
    "# 3. total count of variants with allele frequency >0.05\n",
    "# 4. total count of singleton variants i.e. variants with allele count (AC) equal to 1\n",
    "\n",
    "def count_variants(vcf_name, chromosome, start, end):\n",
    "    with pysam.VariantFile(vcf_name) as vcf:\n",
    "        count = 0\n",
    "        # count_af1 = 0\n",
    "        # count_af5 = 0\n",
    "        count_ac1 = 0\n",
    "        for variant in vcf.fetch(chromosome, start, end):\n",
    "            if 'PASS' not in variant.filter:\n",
    "                continue\n",
    "            if not \"AC\" in variant.info:\n",
    "                continue\n",
    "                \n",
    "            assert len(variant.info[\"AC\"]) == 1\n",
    "            ac = variant.info[\"AC\"][0]\n",
    "            if ac == 1:\n",
    "                count_ac1 += 1\n",
    "                \n",
    "            count = count + 1\n",
    "        \n",
    "        return (count, count_ac1)\n",
    "        #return (count, count_af1, count_af5, count_ac1)"
   ]
  },
  {
   "cell_type": "code",
   "execution_count": 2,
   "id": "d3266282-db19-4afd-80e9-39091164ca54",
   "metadata": {
    "tags": []
   },
   "outputs": [
    {
     "ename": "NameError",
     "evalue": "name 'argparser' is not defined",
     "output_type": "error",
     "traceback": [
      "\u001b[0;31m---------------------------------------------------------------------------\u001b[0m",
      "\u001b[0;31mNameError\u001b[0m                                 Traceback (most recent call last)",
      "\u001b[0;32m<ipython-input-2-c6688f89d1a4>\u001b[0m in \u001b[0;36m<module>\u001b[0;34m\u001b[0m\n\u001b[1;32m      1\u001b[0m \u001b[0;32mif\u001b[0m \u001b[0m__name__\u001b[0m \u001b[0;34m==\u001b[0m \u001b[0;34m'__main__'\u001b[0m\u001b[0;34m:\u001b[0m\u001b[0;34m\u001b[0m\u001b[0;34m\u001b[0m\u001b[0m\n\u001b[0;32m----> 2\u001b[0;31m     \u001b[0margs\u001b[0m \u001b[0;34m=\u001b[0m \u001b[0margparser\u001b[0m\u001b[0;34m.\u001b[0m\u001b[0mparse_args\u001b[0m\u001b[0;34m(\u001b[0m\u001b[0;34m)\u001b[0m\u001b[0;34m\u001b[0m\u001b[0;34m\u001b[0m\u001b[0m\n\u001b[0m\u001b[1;32m      3\u001b[0m \u001b[0;34m\u001b[0m\u001b[0m\n\u001b[1;32m      4\u001b[0m     \u001b[0;31m# build a dictionary to know which VCF stores which chromosome\u001b[0m\u001b[0;34m\u001b[0m\u001b[0;34m\u001b[0m\u001b[0;34m\u001b[0m\u001b[0m\n\u001b[1;32m      5\u001b[0m     \u001b[0mchrom2vcf\u001b[0m \u001b[0;34m=\u001b[0m \u001b[0;34m{\u001b[0m\u001b[0;34m}\u001b[0m\u001b[0;34m\u001b[0m\u001b[0;34m\u001b[0m\u001b[0m\n",
      "\u001b[0;31mNameError\u001b[0m: name 'argparser' is not defined"
     ]
    }
   ],
   "source": [
    "if __name__ == '__main__':\n",
    "    args = argparser.parse_args()\n",
    "    \n",
    "    # build a dictionary to know which VCF stores which chromosome\n",
    "    chrom2vcf = {}\n",
    "    \n",
    "    for vcf_name in args.vcf_names:\n",
    "        with pysam.TabixFile(vcf_name) as vcf:\n",
    "            for chrom in vcf.contigs:\n",
    "                chrom2vcf[chrom] = vcf_name\n",
    "#     print(len(chrom2vcf))\n",
    "#     print(chrom2vcf['chr13'])\n",
    "    \n",
    "    hg19 = pybedtools.chromsizes('hg19')\n",
    "    x = BedTool()\n",
    "    random_list = x.random(l=args.length, n=args.n_intervals, genome='hg19', seed=args.seed) # check random seed paramters\n",
    "    \n",
    "    counts = []\n",
    "    for row in random_list:\n",
    "        chr_name = row[0]\n",
    "        pos1 = int(row[1])\n",
    "        pos2 = int(row[2])\n",
    "        print(chr_name, pos1, pos2)\n",
    "    \n",
    "        random_vcf_name = print(chrom2vcf[chr_name])\n",
    "        count = count_variants(random_vcf_name, chr_name, pos1, pos2)\n",
    "        # count, count_af1, count_af5, count_ac1 = count_variants(...)\n",
    "        print(count)\n",
    "        counts.append(count)\n",
    "    \n",
    "    \n",
    "    "
   ]
  },
  {
   "cell_type": "code",
   "execution_count": null,
   "id": "86b42aac-2b92-4a21-a9e6-d7c7729f9bfb",
   "metadata": {},
   "outputs": [],
   "source": []
  },
  {
   "cell_type": "code",
   "execution_count": null,
   "id": "b8fd6b5e-fa48-4908-9d25-c6744aa2f5b4",
   "metadata": {},
   "outputs": [],
   "source": []
  }
 ],
 "metadata": {
  "kernelspec": {
   "display_name": "Python 3.8",
   "language": "python",
   "name": "python3"
  },
  "language_info": {
   "codemirror_mode": {
    "name": "ipython",
    "version": 3
   },
   "file_extension": ".py",
   "mimetype": "text/x-python",
   "name": "python",
   "nbconvert_exporter": "python",
   "pygments_lexer": "ipython3",
   "version": "3.8.2"
  }
 },
 "nbformat": 4,
 "nbformat_minor": 5
}
